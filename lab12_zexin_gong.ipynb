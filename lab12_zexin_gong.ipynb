{
 "cells": [
  {
   "cell_type": "code",
   "execution_count": null,
   "id": "3cbeb3b2-a685-411d-9936-0c3506046f25",
   "metadata": {},
   "outputs": [],
   "source": [
    "import streamlit as st\n",
    "import pandas as pd\n",
    "\n",
    "\n",
    "DATA_URL = 'car_data.csv'\n",
    "\n",
    "@st.cache\n",
    "def load_data():\n",
    "    data = pd.read_csv(DATA_URL)\n",
    "    return data\n",
    "\n",
    "data = load_data()\n",
    "\n",
    "# Sidebar configuration\n",
    "st.sidebar.header('Filter Options')\n",
    "car_name = st.sidebar.text_input('Car Name', '')\n",
    "transmission = st.sidebar.multiselect('Transmission', ['Manual', 'Automatic'], ['Manual', 'Automatic'])\n",
    "selling_price = st.sidebar.slider('Selling Range', min_value=0, max_value=35, value=(0, 20))\n",
    "year = st.sidebar.slider('Year Range', 2000, 2024, (2000, 2024))\n",
    "\n",
    "\n",
    "# Filtering data based on the selections\n",
    "if st.sidebar.button('Submit'):\n",
    "    filtered_data = data\n",
    "    if car_name:\n",
    "        filtered_data = filtered_data[filtered_data['car_name'].str.contains(car_name, case=False)]\n",
    "    if transmission:\n",
    "        filtered_data = filtered_data[filtered_data['transmission'].isin(transmission)]\n",
    "    filtered_data = filtered_data[(filtered_data['selling_price'] >= price[0]) & (filtered_data['selling_price'] <= price[1])]\n",
    "    filtered_data = filtered_data[(filtered_data['year'] >= year[0]) & (filtered_data['year'] <= year[1])]\n",
    "    \n",
    "    st.write(filtered_data)\n",
    "else:\n",
    "    st.write(data)\n",
    "\n"
   ]
  }
 ],
 "metadata": {
  "kernelspec": {
   "display_name": "Python 3 (ipykernel)",
   "language": "python",
   "name": "python3"
  },
  "language_info": {
   "codemirror_mode": {
    "name": "ipython",
    "version": 3
   },
   "file_extension": ".py",
   "mimetype": "text/x-python",
   "name": "python",
   "nbconvert_exporter": "python",
   "pygments_lexer": "ipython3",
   "version": "3.11.5"
  }
 },
 "nbformat": 4,
 "nbformat_minor": 5
}
